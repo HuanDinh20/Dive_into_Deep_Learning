{
 "cells": [
  {
   "cell_type": "markdown",
   "source": [
    "# 1. Obtaining and Organizing the Dataset\n",
    "# 2. Image Aumetation\n",
    "# 3. Reading the Dataset\n",
    "# 4. Defining the Model\n",
    "# 5. Defining the Training Function\n",
    "# 6. Training and Validating the model\n",
    "# 8. Classifying the Testing Set and Submitting Results on Kaggle"
   ],
   "metadata": {
    "collapsed": false,
    "pycharm": {
     "name": "#%% md\n"
    }
   }
  },
  {
   "cell_type": "code",
   "execution_count": null,
   "outputs": [],
   "source": [],
   "metadata": {
    "collapsed": false,
    "pycharm": {
     "name": "#%%\n"
    }
   }
  }
 ],
 "metadata": {
  "kernelspec": {
   "display_name": "Python 3",
   "language": "python",
   "name": "python3"
  },
  "language_info": {
   "codemirror_mode": {
    "name": "ipython",
    "version": 2
   },
   "file_extension": ".py",
   "mimetype": "text/x-python",
   "name": "python",
   "nbconvert_exporter": "python",
   "pygments_lexer": "ipython2",
   "version": "2.7.6"
  }
 },
 "nbformat": 4,
 "nbformat_minor": 0
}